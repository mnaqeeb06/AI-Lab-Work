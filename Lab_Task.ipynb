{
  "nbformat": 4,
  "nbformat_minor": 0,
  "metadata": {
    "colab": {
      "provenance": [],
      "collapsed_sections": [],
      "authorship_tag": "ABX9TyPTfJHzK6Daz4p+e1j+mvv5",
      "include_colab_link": true
    },
    "kernelspec": {
      "name": "python3",
      "display_name": "Python 3"
    },
    "language_info": {
      "name": "python"
    }
  },
  "cells": [
    {
      "cell_type": "markdown",
      "metadata": {
        "id": "view-in-github",
        "colab_type": "text"
      },
      "source": [
        "<a href=\"https://colab.research.google.com/github/mnaqeeb06/AI-Lab-Work/blob/main/Lab_Task.ipynb\" target=\"_parent\"><img src=\"https://colab.research.google.com/assets/colab-badge.svg\" alt=\"Open In Colab\"/></a>"
      ]
    },
    {
      "cell_type": "markdown",
      "source": [
        "# Lab Task 12th September\n",
        "> Muhammad Naqeeb\n",
        "\n",
        "> fa20-bcs-012\n",
        "\n",
        "> To: Mr. Qazi Zia\n",
        "\n"
      ],
      "metadata": {
        "id": "nmwDo-NQFJ2v"
      }
    },
    {
      "cell_type": "markdown",
      "source": [
        "### Lab Task 1:\n",
        "\n",
        "> Write a program that prompts the user to input an integer and then outputs the number with the digits \n",
        "reversed. For example, if the input is 12345, the output should be 54321.\n"
      ],
      "metadata": {
        "id": "Cb0DT_TvXE9Z"
      }
    },
    {
      "cell_type": "code",
      "source": [
        "num = input('Enter a number')\n",
        "for i in range(1, len(num)+1):\n",
        "  print(num[-i])\n"
      ],
      "metadata": {
        "colab": {
          "base_uri": "https://localhost:8080/"
        },
        "id": "JTyrbtD1W7a2",
        "outputId": "0180b89d-830f-45d2-eb30-457398e72029"
      },
      "execution_count": null,
      "outputs": [
        {
          "output_type": "stream",
          "name": "stdout",
          "text": [
            "Enter a number12345\n",
            "5\n",
            "4\n",
            "3\n",
            "2\n",
            "1\n"
          ]
        }
      ]
    },
    {
      "cell_type": "markdown",
      "source": [
        "### Lab Task 2:\n",
        ">Write a program that reads a set of integers, and then prints the sum of the even and odd integers.\n"
      ],
      "metadata": {
        "id": "Mq0Am9SZbwLM"
      }
    },
    {
      "cell_type": "code",
      "source": [
        "num = input('Enter a number: ')\n",
        "sum_even = 0\n",
        "sum_odd = 0\n",
        "\n",
        "for i in range(0, len(num)):\n",
        "  if(int(num[i]) % 2 == 0):\n",
        "    sum_even = sum_even + int(num[i])\n",
        "  else:\n",
        "    sum_odd = sum_odd + int(num[i])\n",
        "\n",
        "print('Sum Even: ',sum_even)\n",
        "print('Sum Odd: ',sum_odd)\n",
        "\n"
      ],
      "metadata": {
        "colab": {
          "base_uri": "https://localhost:8080/"
        },
        "id": "eVU0S5TnXcjq",
        "outputId": "1594fb0b-052b-48f2-9f5b-28f380748469"
      },
      "execution_count": 9,
      "outputs": [
        {
          "output_type": "stream",
          "name": "stdout",
          "text": [
            "Enter a number: 1234\n",
            "Sum Even:  6\n",
            "Sum Odd:  4\n"
          ]
        }
      ]
    },
    {
      "cell_type": "markdown",
      "source": [
        "### Lab Task 3:\n",
        "> Fibonacci series is that when you add the previous two numbers the next number is formed. You have \n",
        "to start from 0 and 1.\n",
        "E.g. 0+1=1 → 1+1=2 → 1+2=3 → 2+3=5 → 3+5=8 → 5+8=13\n",
        "So the series becomes\n",
        "0 1 1 2 3 5 8 13 21 34 55 ……………………………………\n",
        "Steps: You have to take an input number that shows how many terms to be displayed. Then use loops \n",
        "for displaying the Fibonacci series up to that term e.g. input no is =6 the output should be\n",
        "0 1 1 2 3 5"
      ],
      "metadata": {
        "id": "3DVFr4KvfB3L"
      }
    },
    {
      "cell_type": "code",
      "source": [
        "def fabonachi(num):\n",
        "    a=0\n",
        "    b=1\n",
        "    \n",
        "    if(num == 1):\n",
        "        print(a)\n",
        "    else:\n",
        "        print(a)\n",
        "        print(b)\n",
        "        \n",
        "    for i in range(2,num):\n",
        "        c = a + b\n",
        "        print(c)\n",
        "        a = b\n",
        "        b = c\n",
        "\n",
        "num = int(input('Enter a Number: '))\n",
        "fabonachi(num)\n"
      ],
      "metadata": {
        "colab": {
          "base_uri": "https://localhost:8080/"
        },
        "id": "I-tDBvwBiWul",
        "outputId": "ac376e83-4f16-4f66-f29d-f37c90e44efa"
      },
      "execution_count": 8,
      "outputs": [
        {
          "output_type": "stream",
          "name": "stdout",
          "text": [
            "Enter a Number: 8\n",
            "0\n",
            "1\n",
            "1\n",
            "2\n",
            "3\n",
            "5\n",
            "8\n",
            "13\n"
          ]
        }
      ]
    },
    {
      "cell_type": "markdown",
      "source": [
        "### Lab Task 4:\n",
        "> Write a Python code to accept marks of a student from 1-100 and display the grade according to the \n",
        "following formula.\n",
        "Grade F if marks are less than 50 \n",
        "Grade E if marks are between 50 to 60 \n",
        "Grade D if marks are between 61 to 70 \n",
        "Grade C if marks are between 71 to 80\n",
        "Grade B if marks are between 81 to 90\n",
        "Grade A if marks are between 91 to 100"
      ],
      "metadata": {
        "id": "fVSJBcPYLoNF"
      }
    },
    {
      "cell_type": "code",
      "source": [
        "num = int(input('Enter a Number'))\n",
        "if(num<50):\n",
        "    print('F')\n",
        "elif(num<=60):\n",
        "    print('E')\n",
        "elif(num<=70):\n",
        "    print('D')\n",
        "elif(num<=80):\n",
        "    print('C')\n",
        "elif(num<=90):\n",
        "    print('B')\n",
        "elif(num<=100):\n",
        "    print('A')\n"
      ],
      "metadata": {
        "colab": {
          "base_uri": "https://localhost:8080/"
        },
        "id": "EBpIcd0pMMzs",
        "outputId": "7bd1a54d-b06a-48bc-9af3-0327f665ea9a"
      },
      "execution_count": 5,
      "outputs": [
        {
          "output_type": "stream",
          "name": "stdout",
          "text": [
            "Enter a Number91\n",
            "A\n"
          ]
        }
      ]
    },
    {
      "cell_type": "markdown",
      "source": [
        "### Lab Task 5:\n",
        "> Write a program that takes a number from user and calculate the factorial of that number"
      ],
      "metadata": {
        "id": "K-YhrY7gM6zD"
      }
    },
    {
      "cell_type": "code",
      "source": [
        "def factorial(num):\n",
        "    if(num == 0):\n",
        "        return 1\n",
        "        \n",
        "    count = num -1\n",
        "    while(count>0):\n",
        "        num = num * count\n",
        "        count = count-1\n",
        "    return num\n",
        "    \n",
        "num = int(input('Enter a Number'))\n",
        "result = factorial(num)\n",
        "print(result)\n"
      ],
      "metadata": {
        "colab": {
          "base_uri": "https://localhost:8080/"
        },
        "id": "ywhgrQ4YMVk0",
        "outputId": "4f16ac63-ad9c-4fbc-a57d-3cc8cd8ebad7"
      },
      "execution_count": 6,
      "outputs": [
        {
          "output_type": "stream",
          "name": "stdout",
          "text": [
            "Enter a Number5\n",
            "120\n"
          ]
        }
      ]
    }
  ]
}