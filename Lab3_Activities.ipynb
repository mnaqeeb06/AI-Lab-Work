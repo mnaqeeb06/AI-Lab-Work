{
  "nbformat": 4,
  "nbformat_minor": 0,
  "metadata": {
    "colab": {
      "provenance": [],
      "collapsed_sections": [],
      "authorship_tag": "ABX9TyOTQWroqLENEb+DpQsRwPFi",
      "include_colab_link": true
    },
    "kernelspec": {
      "name": "python3",
      "display_name": "Python 3"
    },
    "language_info": {
      "name": "python"
    }
  },
  "cells": [
    {
      "cell_type": "markdown",
      "metadata": {
        "id": "view-in-github",
        "colab_type": "text"
      },
      "source": [
        "<a href=\"https://colab.research.google.com/github/mnaqeeb06/AI-Lab-Work/blob/main/Lab3_Activities.ipynb\" target=\"_parent\"><img src=\"https://colab.research.google.com/assets/colab-badge.svg\" alt=\"Open In Colab\"/></a>"
      ]
    },
    {
      "cell_type": "markdown",
      "source": [
        "# Lab Activity 25th September\n",
        "## Lab 3\n",
        "> Muhammad Naqeeb\n",
        "\n",
        "> fa20-bcs-012\n",
        "\n",
        "> To: Mr. Qazi Zia"
      ],
      "metadata": {
        "id": "JR5_qApKYhYa"
      }
    },
    {
      "cell_type": "markdown",
      "source": [
        "## Graphs\n",
        "Graphs are complex, non-linear data structures that are characterized by a group of vertices, connected by edges.\n",
        "\n",
        "Graphs are non-linear data structures made up of two major components:\n",
        "\n",
        "> `Vertices` – Vertices are entities in a graph. Every vertex has a value associated with it. For example, if we represent a list of cities using a graph, the vertices would represent the cities.\n",
        "\n",
        "> `Edges` – Edges represent the relationship between the vertices in the graph. Edges may or may not have a value associated with them. For example, if we represent a list of cities using a graph, the edges would represent the path between the cities."
      ],
      "metadata": {
        "id": "NmLYnbAUYlcU"
      }
    },
    {
      "cell_type": "markdown",
      "source": [
        "## Simple BFS Traversal"
      ],
      "metadata": {
        "id": "XoxHXx6QLixl"
      }
    },
    {
      "cell_type": "code",
      "execution_count": 9,
      "metadata": {
        "colab": {
          "base_uri": "https://localhost:8080/"
        },
        "id": "LcMEcFjRX3OH",
        "outputId": "9ada20c1-b178-4f32-de53-2c5a39811ad1"
      },
      "outputs": [
        {
          "output_type": "stream",
          "name": "stdout",
          "text": [
            "Following is the Breadth-First Search\n",
            "5 3 7 2 4 8 "
          ]
        }
      ],
      "source": [
        "graph = {\n",
        "  '5' : ['3','7'],\n",
        "  '3' : ['2', '4'],\n",
        "  '7' : ['8'],\n",
        "  '2' : [],\n",
        "  '4' : ['8'],\n",
        "  '8' : []\n",
        "}\n",
        "\n",
        "visited = [] # List for visited nodes.\n",
        "queue = []     #Initialize a queue\n",
        "\n",
        "def bfs(visited, graph, node): #function for BFS\n",
        "  visited.append(node)\n",
        "  queue.append(node)\n",
        "\n",
        "  while queue:          # Creating loop to visit each node\n",
        "    m = queue.pop(0) \n",
        "    print (m, end = \" \") \n",
        "\n",
        "    for neighbour in graph[m]:\n",
        "      if neighbour not in visited:\n",
        "        visited.append(neighbour)\n",
        "        queue.append(neighbour)\n",
        "\n",
        "# Driver Code\n",
        "print(\"Following is the Breadth-First Search\")\n",
        "bfs(visited, graph, '5')    # function calling\n"
      ]
    },
    {
      "cell_type": "markdown",
      "source": [
        "## Activity 1:\n",
        "Consider a toy problem that can be represented as a following graph. How would you represent this \n",
        "graph in python?\n",
        "\n",
        "Solution:\n",
        "Remember a node of a tree can be represented by four attributes. We consider node as a class having \n",
        "four attributes namely,\n",
        "1. State of the node \n",
        "2. Parent of the node\n",
        "3. Actions applicable to that node\n",
        "4. The total path cost of that node starting from the initial state until that particular node is reached\n"
      ],
      "metadata": {
        "id": "3pNBwmwp813Z"
      }
    },
    {
      "cell_type": "markdown",
      "source": [
        "**Self** **keyword**\n",
        "\n",
        "self represents the instance of the class. By using the “self”  we can access the attributes and methods of the class in python. It binds the attributes with the given arguments."
      ],
      "metadata": {
        "id": "eD191WYo-O4k"
      }
    },
    {
      "cell_type": "code",
      "source": [
        "class Node:\n",
        "  def __init__(self, state, parent, actions, totalCost):\n",
        "    self.state = state\n",
        "    self.parent = parent\n",
        "    self.actions = actions\n",
        "    self.totalCost = totalCost\n",
        "\n",
        "#We can now implement this class in a dictionary. This dictionary will represent our state space graph. \n",
        "#As we will traverse through the graph, we will keep updating parent and cost of each node.\n",
        "\n",
        "\n",
        "graphs = {\n",
        "    'A': Node('A', None,['B','C','E'],None), \n",
        "    'B': Node('B', None,['A','E'],None),\n",
        "    'C': Node('C', None,['A','F','G'],None),\n",
        "    'D': Node('D', None,['B','E'],None),\n",
        "    'E': Node('E', None,['A','B','D'],None),\n",
        "    'F': Node('F', None,['C'],None),\n",
        "    'G': Node('G', None,['C'],None) \n",
        "  }\n"
      ],
      "metadata": {
        "id": "a2EEv5eE89R4"
      },
      "execution_count": 32,
      "outputs": []
    },
    {
      "cell_type": "markdown",
      "source": [
        "## Activity 1 - b\n",
        "For the graph in previous activity, imagine node A as starting node and your goal is to reach F. \n",
        "Keeping breadth first search in mind, describe a sequence of actions that you must take to reach that \n",
        "goal state.\n"
      ],
      "metadata": {
        "id": "OfCxf0PnEjkf"
      }
    },
    {
      "cell_type": "code",
      "source": [
        "# Pending\n",
        "def actionSequence(graph, initialState, goalState):\n",
        "  solution = [goalState]\n",
        "  currentParent = graph[goalState].parent\n",
        "  while currentParent!= None:\n",
        "    solution.append(currentParent)\n",
        "    currentParent = graph[currentParent].currentParent\n",
        "  solution.reverse()\n",
        "  return solution\n",
        "\n",
        "def BFS():\n",
        "  initialState = 'A'\n",
        "  goalState = 'F'\n",
        "\n",
        "  graphs = {\n",
        "    'A': ['B','C','E'], \n",
        "    'B': ['A','E'],\n",
        "    'C': ['A','F','G'],\n",
        "    'D': ['B','E'],\n",
        "    'E': ['A','B','D'],\n",
        "    'F': ['C'],\n",
        "    'G': ['C']\n",
        "  }\n",
        "\n",
        "  frontier = [initialState]\n",
        "  explored = []\n",
        "\n",
        "  while len(frontier) != 0:\n",
        "    currentNode = frontier.pop(0)\n",
        "    explored.append(currentNode)\n",
        "    for child in graph[currentNode]: \n",
        "      if child not in frontier and child not in explored:\n",
        "        graph[child].parent = currentNode\n",
        "        if graph[child].state == goalState:\n",
        "          return actionSequence(graph, initialState, goalState)\n",
        "        frontier.append(child)\n",
        "\n",
        "solution = BFS()\n",
        "print(solution)\n",
        "\n",
        "# Pending"
      ],
      "metadata": {
        "id": "ddDLbhMrEng8"
      },
      "execution_count": 35,
      "outputs": []
    },
    {
      "cell_type": "code",
      "source": [
        "#"
      ],
      "metadata": {
        "id": "_nwUZaDNR804"
      },
      "execution_count": null,
      "outputs": []
    }
  ]
}