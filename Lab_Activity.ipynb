{
  "nbformat": 4,
  "nbformat_minor": 0,
  "metadata": {
    "colab": {
      "provenance": [],
      "authorship_tag": "ABX9TyNFU2FtCwZX2Gnz1B83ED3A",
      "include_colab_link": true
    },
    "kernelspec": {
      "name": "python3",
      "display_name": "Python 3"
    },
    "language_info": {
      "name": "python"
    }
  },
  "cells": [
    {
      "cell_type": "markdown",
      "metadata": {
        "id": "view-in-github",
        "colab_type": "text"
      },
      "source": [
        "<a href=\"https://colab.research.google.com/github/mnaqeeb06/AI-Lab-Work/blob/main/Lab_Activity.ipynb\" target=\"_parent\"><img src=\"https://colab.research.google.com/assets/colab-badge.svg\" alt=\"Open In Colab\"/></a>"
      ]
    },
    {
      "cell_type": "markdown",
      "source": [
        "# Lab Activity 12th September\n",
        "> Muhammad Naqeeb\n",
        "\n",
        "> fa20-bcs-012\n",
        "\n",
        "> To: Mr. Qazi Zia"
      ],
      "metadata": {
        "id": "wpAsoJJfUXo3"
      }
    },
    {
      "cell_type": "markdown",
      "source": [
        "### Activity 1:\n",
        "> Let us take an integer from user as input and check whether the given value is even or not"
      ],
      "metadata": {
        "id": "fD7DVikqU_PX"
      }
    },
    {
      "cell_type": "code",
      "source": [
        "num = int(input('Enter a Number'))\n",
        "\n",
        "if(num % 2 == 0):\n",
        "    print('Enter number is even')\n",
        "else:\n",
        "    print('Entered number is odd')\n"
      ],
      "metadata": {
        "colab": {
          "base_uri": "https://localhost:8080/"
        },
        "id": "3vHhvbl1U2wi",
        "outputId": "db9ef960-4c71-4306-cb97-a1cebdec7de8"
      },
      "execution_count": 2,
      "outputs": [
        {
          "output_type": "stream",
          "name": "stdout",
          "text": [
            "Enter a Number7\n",
            "Entered number is odd\n"
          ]
        }
      ]
    },
    {
      "cell_type": "markdown",
      "source": [
        "### Activity 2:\n",
        ">Write a Python code to keep accepting integer values from user until 0 is entered. Display sum of the \n",
        "given values"
      ],
      "metadata": {
        "id": "VQM6y3IBVJKV"
      }
    },
    {
      "cell_type": "code",
      "source": [
        "num = int(input('Enter a Number'))\n",
        "sum = 0\n",
        "while(num!=0):\n",
        "    sum = sum + num\n",
        "    num = int(input('Enter a Number'))\n",
        "    \n",
        "print(\"Sum is: \",sum)\n"
      ],
      "metadata": {
        "colab": {
          "base_uri": "https://localhost:8080/"
        },
        "id": "ykknV_N7VHuQ",
        "outputId": "0799b8ee-0ff9-4e87-f915-7f6a2b0a1029"
      },
      "execution_count": 3,
      "outputs": [
        {
          "output_type": "stream",
          "name": "stdout",
          "text": [
            "Enter a Number2\n",
            "Enter a Number3\n",
            "Enter a Number4\n",
            "Enter a Number5\n",
            "Enter a Number0\n",
            "Sum is:  14\n"
          ]
        }
      ]
    },
    {
      "cell_type": "markdown",
      "source": [
        "### Activity 3:\n",
        "> Write a Python code to accept an integer value from user and check that whether the given value is \n",
        "prime number or not"
      ],
      "metadata": {
        "id": "NmpyMaeOVgCr"
      }
    },
    {
      "cell_type": "code",
      "source": [
        "num = int(input('Enter a Number: '))\n",
        "check = True\n",
        "for i in range(2, num):\n",
        "    if(num % i == 0):\n",
        "        check = False\n",
        "        break\n",
        "\n",
        "if(check):\n",
        "    print('Number is prime')\n",
        "else:\n",
        "    print('Number is not prime')\n",
        "\n"
      ],
      "metadata": {
        "colab": {
          "base_uri": "https://localhost:8080/"
        },
        "id": "sYtQFjGLVbYl",
        "outputId": "549a05e4-dbbd-4629-e411-5457fa41ca21"
      },
      "execution_count": 5,
      "outputs": [
        {
          "output_type": "stream",
          "name": "stdout",
          "text": [
            "Enter a Number: 7\n",
            "Number is prime\n"
          ]
        }
      ]
    },
    {
      "cell_type": "markdown",
      "source": [
        "### Activity 4:\n",
        "> Accept 5 integer values from user and display their sum. Draw flowchart before \n",
        "coding in python"
      ],
      "metadata": {
        "id": "6drnO0oiVzU7"
      }
    },
    {
      "cell_type": "code",
      "source": [
        "sum = 0\n",
        "for i in range(5):\n",
        "    num = int(input('Enter a Number'))\n",
        "    sum = sum + num\n",
        "\n",
        "print('Sum of numbers is: ', sum)\n"
      ],
      "metadata": {
        "colab": {
          "base_uri": "https://localhost:8080/"
        },
        "id": "0pgAvHraVqCF",
        "outputId": "53e87c0f-f9e4-47f2-98b5-ff88214183d6"
      },
      "execution_count": 6,
      "outputs": [
        {
          "output_type": "stream",
          "name": "stdout",
          "text": [
            "Enter a Number1\n",
            "Enter a Number2\n",
            "Enter a Number3\n",
            "Enter a Number4\n",
            "Enter a Number5\n",
            "Sum of numbers is:  15\n"
          ]
        }
      ]
    },
    {
      "cell_type": "markdown",
      "source": [
        "### Activity 5:\n",
        ">Calculate the sum of all the values between 0-10 using while loop."
      ],
      "metadata": {
        "id": "sYR0XSxNV_zQ"
      }
    },
    {
      "cell_type": "code",
      "source": [
        "sum = 0\n",
        "i = 0\n",
        "\n",
        "while(i<=10):\n",
        "    sum = sum +i\n",
        "    i=i+1\n",
        "print('Sum of 0-10 is: ',sum)"
      ],
      "metadata": {
        "colab": {
          "base_uri": "https://localhost:8080/"
        },
        "id": "miVRzftzV6PJ",
        "outputId": "9def01fa-c2c2-4e0c-99c6-49ef78c75cc5"
      },
      "execution_count": 7,
      "outputs": [
        {
          "output_type": "stream",
          "name": "stdout",
          "text": [
            "Sum of 0-10 is:  55\n"
          ]
        }
      ]
    },
    {
      "cell_type": "markdown",
      "source": [
        "### Activity 6:\n",
        "> Take input from the keyboard and use it in your program.\n"
      ],
      "metadata": {
        "id": "C3jL70YDWN1-"
      }
    },
    {
      "cell_type": "code",
      "source": [
        "name = input('Whats is your name? ') \n",
        "print('Welcome ' + name + ' to my Colab Notebook')\n"
      ],
      "metadata": {
        "colab": {
          "base_uri": "https://localhost:8080/"
        },
        "id": "r9pJ3XpQWJV1",
        "outputId": "f2a25b28-ed50-4c14-a7e4-50653f482fb7"
      },
      "execution_count": 10,
      "outputs": [
        {
          "output_type": "stream",
          "name": "stdout",
          "text": [
            "Whats is your name? Ali\n",
            "Welcome Ali to my Colab Notebook\n"
          ]
        }
      ]
    },
    {
      "cell_type": "markdown",
      "source": [
        "### Activity 7:\n",
        "> Generate a random number between 1 and 9 (including 1 and 9). Ask the user to guess the number, \n",
        "then tell them whether they guessed too low, too high, or exactly right. (Hint: remember to use the \n",
        "user input lessons from the very first exercise)\n",
        "Extras:\n",
        "Keep the game going until the user types “exit”\n",
        "Keep track of how many guesses the user has taken, and when the game ends, print this out."
      ],
      "metadata": {
        "id": "C5PLN0H3Wsp6"
      }
    },
    {
      "cell_type": "code",
      "source": [
        "import random\n",
        "\n",
        "NUMBER = random.randint(1, 9)\n",
        "GUESS = None\n",
        "TRY = 0\n",
        "RUNNING = True\n",
        "print (\"Alright...\")\n",
        "while RUNNING:\n",
        "\n",
        " GUESS = input(\"What is your lucky number? \")\n",
        " if(GUESS == 'exit'):\n",
        "   RUNNING = False\n",
        " else:\n",
        "   if int(GUESS) < NUMBER:\n",
        "     print (\"Wrong, too low.\")\n",
        "   elif int(GUESS) > NUMBER:\n",
        "     print (\"Wrong, too high.\")\n",
        "   elif GUESS.lower() == \"exit\":\n",
        "     print (\"Better luck next time.\")\n",
        "   elif int(GUESS) == NUMBER:\n",
        "     print (\"Yes, that's the one, %s.\" % str(NUMBER))\n",
        "   "
      ],
      "metadata": {
        "colab": {
          "base_uri": "https://localhost:8080/"
        },
        "id": "1FmqY8NkWesL",
        "outputId": "966d9a81-390d-4625-dd05-c00f4cb8d112"
      },
      "execution_count": 19,
      "outputs": [
        {
          "name": "stdout",
          "output_type": "stream",
          "text": [
            "Alright...\n",
            "What is your lucky number? 6\n",
            "Wrong, too low.\n",
            "What is your lucky number? 9\n",
            "Wrong, too high.\n",
            "What is your lucky number? 4\n",
            "Wrong, too low.\n",
            "What is your lucky number? 8\n",
            "Wrong, too high.\n",
            "What is your lucky number? 7\n",
            "Yes, that's the one, 7.\n",
            "What is your lucky number? exit\n"
          ]
        }
      ]
    }
  ]
}