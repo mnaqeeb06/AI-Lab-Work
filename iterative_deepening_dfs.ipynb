{
  "nbformat": 4,
  "nbformat_minor": 0,
  "metadata": {
    "colab": {
      "provenance": [],
      "collapsed_sections": [],
      "authorship_tag": "ABX9TyO8DvVGC2WEbM0LrVs83HoS",
      "include_colab_link": true
    },
    "kernelspec": {
      "name": "python3",
      "display_name": "Python 3"
    },
    "language_info": {
      "name": "python"
    }
  },
  "cells": [
    {
      "cell_type": "markdown",
      "metadata": {
        "id": "view-in-github",
        "colab_type": "text"
      },
      "source": [
        "<a href=\"https://colab.research.google.com/github/mnaqeeb06/AI-Lab-Work/blob/main/iterative_deepening_dfs.ipynb\" target=\"_parent\"><img src=\"https://colab.research.google.com/assets/colab-badge.svg\" alt=\"Open In Colab\"/></a>"
      ]
    },
    {
      "cell_type": "markdown",
      "source": [
        "# Iterative Deepening DFS\n",
        "\n",
        "\n",
        "> Muhammad Naqeeb\n",
        "\n",
        "> fa20-bcs-012\n",
        "\n",
        "> To: Mr. Qazi Zia"
      ],
      "metadata": {
        "id": "cjyD3I-3XyA_"
      }
    },
    {
      "cell_type": "markdown",
      "source": [
        "## Iterative Deepening Depth-First Search Algorithm.\n",
        "\n",
        "The Iterative Deepening Depth-First Search (also ID-DFS) algorithm is an algorithm used to find a node in a tree. This means that given a tree data structure, the algorithm will return the first node in this tree that matches the specified condition. Nodes are sometimes referred to as vertices (plural of vertex) - here, we’ll call them nodes. The edges have to be unweighted. This algorithm can also work with unweighted graphs if mechanism to keep track of already visited nodes is added.\n",
        "\n",
        "Description of the Algorithm The basic principle of the algorithm is to start with a start node, and then look at the first child of this node. It then looks at the first child of that node (grandchild of the start node) and so on, until a node has no more children (we’ve reached a leaf node). It then goes up one level, and looks at the next child. If there are no more children, it goes up one more level, and so on, until it find more children or reaches the start node. If hasn’t found the goal node after returning from the last child of the start node, the goal node cannot be found, since by then all nodes have been traversed.\n",
        "\n",
        "So far this has been describing Depth-First Search (DFS). Iterative deepening adds to this, that the algorithm not only returns one layer up the tree when the node has no more children to visit, but also when a previously specified maximum depth has been reached. Also, if we return to the start node, we increase the maximum depth and start the search all over, until we’ve visited all leaf nodes (bottom nodes) and increasing the maximum depth won’t lead to us visiting more nodes.\n",
        "\n",
        "Specifically, these are the steps:\n",
        "\n",
        "For each child of the current node If it is the target node, return If the current maximum depth is reached, return Set the current node to this node and go back to 1. After having gone through all children, go to the next child of the parent (the next sibling) After having gone through all children of the start node, increase the maximum depth and go back to 1. If we have reached all leaf (bottom) nodes, the goal node doesn’t exist.\n",
        "\n",
        "Example of the Algorithm Consider the following tree:\n",
        "\n",
        "Tree for the Iterative Deepening Depth-First Search algorithm\n",
        "\n",
        "The steps the algorithm performs on this tree if given node 0 as a starting point, in order, are:\n",
        "\n",
        "* Visiting Node 0\n",
        "* Visiting Node 1\n",
        "* Current maximum depth reached, returning…\n",
        "* Visiting Node 2\n",
        "* Current maximum depth reached, returning…\n",
        "* Increasing depth to 2\n",
        "* Visiting Node 0\n",
        "* Visiting Node 1\n",
        "* Visiting Node 3\n",
        "* Current maximum depth reached, returning…\n",
        "* Visiting Node 4\n",
        "* Current maximum depth reached, returning…\n",
        "* Visiting Node 2\n",
        "* Visiting Node 5\n",
        "* Current maximum depth reached, returning…\n",
        "* Visiting Node 6\n",
        "* Found the node we’re looking for, returning…\n",
        "\n",
        "\n",
        "\n",
        "\n",
        "### **Runtime of the Algorithm.**\n",
        "If we double the maximum depth each time we need to go deeper, the runtime complexity of Iterative Deepening Depth-First Search (ID-DFS) is the same as regular Depth-First Search (DFS), since all previous depths added up will have the same runtime as the current depth (1/2 + 1/4 + 1/8 + … < 1). The runtime of regular Depth-First Search (DFS) is O(|N|) (|N| = number of Nodes in the tree), since every node is traversed at most once. The number of nodes is equal to b^d, where b is the branching factor and d is the depth, so the runtime can be rewritten as O(b^d).\n",
        "\n",
        "### **Space of the Algorithm.**\n",
        "\n",
        "The space complexity of Iterative Deepening Depth-First Search (ID-DFS) is the same as regular Depth-First Search (DFS), which is, if we exclude the tree itself, O(d), with d being the depth, which is also the size of the call stack at maximum depth. If we include the tree, the space complexity is the same as the runtime complexity, as each node needs to be saved.\n",
        "\n",
        "![IDDFS (1).png](data:image/png;base64,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)"
      ],
      "metadata": {
        "id": "ptWIwgIZbdBL"
      }
    },
    {
      "cell_type": "code",
      "source": [
        "def iterative_deepening_dfs(start, target):\n",
        "    \"\"\"\n",
        "    Implementation of iterative deepening DFS (depth-first search) algorithm to find the shortest path from a start to a target node..\n",
        "    Given a start node, this returns the node in the tree below the start node with the target value (or null if it doesn't exist)\n",
        "    Runs in O(n), where n is the number of nodes in the tree, or O(b^d), where b is the branching factor and d is the depth.\n",
        "    :param start:  the node to start the search from\n",
        "    :param target: the value to search for\n",
        "    :return: The node containing the target value or null if it doesn't exist.\n",
        "    \"\"\"\n",
        "    # Start by doing DFS with a depth of 1, keep doubling depth until we reach the \"bottom\" of the tree or find the node we're searching for\n",
        "    depth = 1\n",
        "    print(start)\n",
        "    bottom_reached = False  # Variable to keep track if we have reached the bottom of the tree\n",
        "    while not bottom_reached:\n",
        "        # One of the \"end nodes\" of the search with this depth has to still have children and set this to False again\n",
        "        result, bottom_reached = iterative_deepening_dfs_rec(start, target, 0, depth)\n",
        "        if result is not None:\n",
        "            # We've found the goal node while doing DFS with this max depth\n",
        "            return result\n",
        "\n",
        "        # We haven't found the goal node, but there are still deeper nodes to search through\n",
        "        depth *= 2\n",
        "        print(\"Increasing depth to \" + str(depth))\n",
        "\n",
        "    # Bottom reached is True.\n",
        "    # We haven't found the node and there were no more nodes that still have children to explore at a higher depth.\n",
        "    return None\n",
        "\n",
        "\n",
        "def iterative_deepening_dfs_rec(node, target, current_depth, max_depth):\n",
        "    print(\"Visiting Node \" + str(node[\"value\"]))\n",
        "\n",
        "    if node[\"value\"] == target:\n",
        "        # We have found the goal node we we're searching for\n",
        "        print(\"Found the node we're looking for!\")\n",
        "        return node, True\n",
        "\n",
        "    if current_depth == max_depth:\n",
        "        print(\"Current maximum depth reached, returning...\")\n",
        "        # We have reached the end for this depth...\n",
        "        if len(node[\"children\"]) > 0:\n",
        "            # ...but we have not yet reached the bottom of the tree\n",
        "            return None, False\n",
        "        else:\n",
        "            return None, True\n",
        "\n",
        "    # Recurse with all children\n",
        "    bottom_reached = True\n",
        "    for i in range(len(node[\"children\"])):\n",
        "        result, bottom_reached_rec = iterative_deepening_dfs_rec(node[\"children\"][i], target, current_depth + 1,\n",
        "                                                                 max_depth)\n",
        "        if result is not None:\n",
        "            # We've found the goal node while going down that child\n",
        "            return result, True\n",
        "        bottom_reached = bottom_reached and bottom_reached_rec\n",
        "\n",
        "    # We've gone through all children and not found the goal node\n",
        "    return None, bottom_reached\n",
        "\n",
        "start={\"value\": 0, \"children\":[\n",
        "   {\"value\": 1, \"children\":[\n",
        "     {\"value\": 3, \"children\":[  ]},\n",
        "     {\"value\": 4, \"children\":[ ]}\n",
        "     ]}, {\n",
        "         \"value\": 2, \"children\":[\n",
        "             {\"value\": 5, \"children\":[ ]},\n",
        "             {\"value\": 6, \"children\":[ ]}\n",
        "             ]\n",
        "         }\n",
        "   ]\n",
        "}\n",
        "\n",
        "\n",
        "print(iterative_deepening_dfs(start, 6) [\"value\"])"
      ],
      "metadata": {
        "colab": {
          "base_uri": "https://localhost:8080/"
        },
        "id": "1dQKFgy_X-4W",
        "outputId": "c2f2985b-e1e2-4432-8fc2-876dcc959b52"
      },
      "execution_count": 2,
      "outputs": [
        {
          "output_type": "stream",
          "name": "stdout",
          "text": [
            "{'value': 0, 'children': [{'value': 1, 'children': [{'value': 3, 'children': []}, {'value': 4, 'children': []}]}, {'value': 2, 'children': [{'value': 5, 'children': []}, {'value': 6, 'children': []}]}]}\n",
            "Visiting Node 0\n",
            "Visiting Node 1\n",
            "Current maximum depth reached, returning...\n",
            "Visiting Node 2\n",
            "Current maximum depth reached, returning...\n",
            "Increasing depth to 2\n",
            "Visiting Node 0\n",
            "Visiting Node 1\n",
            "Visiting Node 3\n",
            "Current maximum depth reached, returning...\n",
            "Visiting Node 4\n",
            "Current maximum depth reached, returning...\n",
            "Visiting Node 2\n",
            "Visiting Node 5\n",
            "Current maximum depth reached, returning...\n",
            "Visiting Node 6\n",
            "Found the node we're looking for!\n",
            "6\n"
          ]
        }
      ]
    },
    {
      "cell_type": "code",
      "source": [],
      "metadata": {
        "id": "0FMF1Gmfa0wc"
      },
      "execution_count": null,
      "outputs": []
    }
  ]
}