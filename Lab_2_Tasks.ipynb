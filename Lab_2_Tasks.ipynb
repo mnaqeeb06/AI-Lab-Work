{
  "nbformat": 4,
  "nbformat_minor": 0,
  "metadata": {
    "colab": {
      "provenance": [],
      "collapsed_sections": [],
      "authorship_tag": "ABX9TyMR6Gn4xCz4srzXXJBEqiiZ",
      "include_colab_link": true
    },
    "kernelspec": {
      "name": "python3",
      "display_name": "Python 3"
    },
    "language_info": {
      "name": "python"
    }
  },
  "cells": [
    {
      "cell_type": "markdown",
      "metadata": {
        "id": "view-in-github",
        "colab_type": "text"
      },
      "source": [
        "<a href=\"https://colab.research.google.com/github/mnaqeeb06/AI-Lab-Work/blob/main/Lab_2_Tasks.ipynb\" target=\"_parent\"><img src=\"https://colab.research.google.com/assets/colab-badge.svg\" alt=\"Open In Colab\"/></a>"
      ]
    },
    {
      "cell_type": "markdown",
      "source": [
        "# Lab Tasks 18 september\n",
        "# Lab 2\n",
        "> Muhammad Naqeeb\n",
        "\n",
        "> fa20-bcs-012\n",
        "\n",
        "> To: Mr. Qazi Zia"
      ],
      "metadata": {
        "id": "4pk2eQORAj5c"
      }
    },
    {
      "cell_type": "markdown",
      "source": [
        "### Lab Task 1:\n",
        "> Create two lists based on the user values. Merge both the lists and display in sorted order."
      ],
      "metadata": {
        "id": "KCOEDP79Az-A"
      }
    },
    {
      "cell_type": "code",
      "source": [
        "l1=[]\n",
        "l2 = []\n",
        "\n",
        "l1_length = int(input(\"Enter length of list 1: \"))\n",
        "for i in range(l1_length):\n",
        "  l1.append(int(input()))\n",
        "\n",
        "l2_length = int(input(\"Enter length of list 2: \"))\n",
        "for i in range(l2_length):\n",
        "  l2.append(int(input())) \n",
        "\n",
        "# Merging List\n",
        "l3 = l1 + l2\n",
        "\n",
        "# sorting list\n",
        "l3.sort()\n",
        "\n",
        "print(l3)"
      ],
      "metadata": {
        "id": "RdZ0jSRDAy30",
        "colab": {
          "base_uri": "https://localhost:8080/"
        },
        "outputId": "2359769c-0ccd-4259-a719-cbdfa43cd0fc"
      },
      "execution_count": null,
      "outputs": [
        {
          "output_type": "stream",
          "name": "stdout",
          "text": [
            "Enter length of list 1: 2\n",
            "5\n",
            "4\n",
            "Enter length of list 2: 2\n",
            "1\n",
            "2\n",
            "[1, 2, 4, 5]\n"
          ]
        }
      ]
    },
    {
      "cell_type": "markdown",
      "source": [
        "### Lab Task 2\n",
        "> Repeat the above activity to find the smallest and largest element of the list. (Suppose all the elements \n",
        "are integer values)\n"
      ],
      "metadata": {
        "id": "oS0ab-w_e3Yh"
      }
    },
    {
      "cell_type": "code",
      "source": [
        "l1=[]\n",
        "l2 = []\n",
        "\n",
        "l1_length = int(input(\"Enter length of list 1: \"))\n",
        "for i in range(l1_length):\n",
        "  l1.append(int(input()))\n",
        "\n",
        "l2_length = int(input(\"Enter length of list 2: \"))\n",
        "for i in range(l2_length):\n",
        "  l2.append(int(input())) \n",
        "\n",
        "# Merging List\n",
        "l3 = l1 + l2\n",
        "# sorting list\n",
        "l3.sort()\n",
        "print(l3)\n",
        "\n",
        "print('Smallest Value: ',l3[0])\n",
        "print('Largest Value: ',l3[-1])"
      ],
      "metadata": {
        "colab": {
          "base_uri": "https://localhost:8080/"
        },
        "id": "nT3m1DLqfRh9",
        "outputId": "ece2a558-659f-44f3-b4f5-ffa2ad4cbf2d"
      },
      "execution_count": null,
      "outputs": [
        {
          "output_type": "stream",
          "name": "stdout",
          "text": [
            "Enter length of list 1: 2\n",
            "2\n",
            "10\n",
            "Enter length of list 2: 2\n",
            "1\n",
            "0\n",
            "[0, 1, 2, 10]\n",
            "Smallest Value:  0\n",
            "Largest Value:  10\n"
          ]
        }
      ]
    },
    {
      "cell_type": "markdown",
      "source": [
        "### Lab Task 3:\n",
        "The derivate of a function f(x) is a measurement of how quickly the function f changes with respect to \n",
        "change in its domain x. This measurement can be approximated by the following relation,\n",
        "\n",
        "Where h represents a small increment in x. You have to prove the following relation\n",
        "\n",
        "Imagine x being a list that goes from –pi to pi with an increment of 0.001. You can approximate the \n",
        "derivative by using the following approximation,\n",
        "\n",
        "In your case, assume h = 0.001. That is at each point in x, compute the right hand side of above \n",
        "equation and compare whether the output value is equivalent to cos(x). Also print the corresponding \n",
        "values of ( ) and cos(x) for every point. Type ‘’from math import *’’ at the start of your program to use \n",
        "predefined values of pi, and sin and cos functions. What happens if you increase the interval h from \n",
        "0.001 to 0.01 and then to 0.1?"
      ],
      "metadata": {
        "id": "9lk4IlWkhieb"
      }
    },
    {
      "cell_type": "code",
      "source": [
        "from math import *\n",
        "def formula_function(x):\n",
        "  h = 0.001\n",
        "  return (sin(x + h)-sin(x))/h\n",
        "\n",
        "# compare whether the output value is equivalent to cos(x)\n",
        "print(cos(2))\n",
        "print(formula_function(2))"
      ],
      "metadata": {
        "id": "7Z4s32RahuG8",
        "colab": {
          "base_uri": "https://localhost:8080/"
        },
        "outputId": "5bf1fd6a-c63d-4e3e-eb18-d19c7b9a1691"
      },
      "execution_count": null,
      "outputs": [
        {
          "output_type": "stream",
          "name": "stdout",
          "text": [
            "-0.4161468365471424\n",
            "-0.416601415864859\n"
          ]
        }
      ]
    },
    {
      "cell_type": "markdown",
      "source": [
        "### Lab Task 4:\n",
        "For this exercise, you will keep track of when our friend’s birthdays are, and be able to find that \n",
        "information based on their name. Create a dictionary (in your file) of names and birthdays. When you \n",
        "run your program it should ask the user to enter a name, and return the birthday of that person back to \n",
        "them. The interaction should look something like this:\n",
        "> Welcome to the birthday dictionary. We know the birthdays of:\n",
        "Albert Einstein\n",
        "Benjamin Franklin\n",
        "Ada Lovelace\n",
        "37\n",
        "\n",
        "> Who's birthday do you want to look up?\n",
        "Benjamin Franklin\n",
        "\n",
        "> Benjamin Franklin's birthday is 01/17/1706.\n"
      ],
      "metadata": {
        "id": "9AMjpy6OZ_CG"
      }
    },
    {
      "cell_type": "code",
      "source": [
        "namesAndBirthdays = {\n",
        "    \"Ali\": \"01/17/2000\",\n",
        "    \"Bilal\": \"01/1/2001\",\n",
        "    \"Akmal\": \"01/7/2002\"\n",
        "}\n",
        "\n",
        "print(\"Welcome to the birthday dictionary. We know the birthdays of: \")\n",
        "print(namesAndBirthdays.keys())\n",
        "\n",
        "name = input(\"Who's birthday do you want to look up?   \")\n",
        "print(name, \"birthday is \", namesAndBirthdays[name])\n",
        "\n"
      ],
      "metadata": {
        "colab": {
          "base_uri": "https://localhost:8080/"
        },
        "id": "klIM-GVDaH3z",
        "outputId": "af536a49-309b-4456-f428-d17e412f9a5b"
      },
      "execution_count": null,
      "outputs": [
        {
          "output_type": "stream",
          "name": "stdout",
          "text": [
            "Welcome to the birthday dictionary. We know the birthdays of: \n",
            "dict_keys(['Ali', 'Bilal', 'Akmal'])\n",
            "Who's birthday do you want to look up?   Ali\n",
            "Ali birthday is  01/17/2000\n"
          ]
        }
      ]
    },
    {
      "cell_type": "markdown",
      "source": [
        "### Lab Task 5:\n",
        "Create a dictionary by extracting the keys from a given dictionary\n",
        "Write a Python program to create a new dictionary by extracting the mentioned keys from the below \n",
        "dictionary.\n",
        "\n",
        "Given dictionary:\n",
        "\n",
        "sample_dict = {\n",
        "\n",
        " \"name\": \"Kelly\",\n",
        "\n",
        " \"age\": 25,\n",
        "\n",
        " \"salary\": 8000,\n",
        "\n",
        " \"city\": \"New york\"}\n",
        "\n",
        "Keys to extract\n",
        "\n",
        "keys = [\"name\", \"salary\"]\n",
        "\n",
        "Expected output:\n",
        "\n",
        "{'name': 'Kelly', 'salary': 8000}\n"
      ],
      "metadata": {
        "id": "P0DO0goGcb78"
      }
    },
    {
      "cell_type": "code",
      "source": [
        "sample_dict = {\n",
        " \"name\": \"Kelly\",\n",
        " \"age\": 25,\n",
        " \"salary\": 8000,\n",
        " \"city\": \"New york\"\n",
        " }\n",
        "\n",
        "# for key in sample_dict.keys():\n",
        "#   print(key)\n",
        "\n",
        "new_dict = {\n",
        " \"name\": sample_dict['name'],\n",
        " \"salary\": sample_dict['age'],\n",
        "}\n",
        "\n",
        "print(new_dict)\n",
        "\n"
      ],
      "metadata": {
        "colab": {
          "base_uri": "https://localhost:8080/"
        },
        "id": "6-wYMQAccz8U",
        "outputId": "4aa3b782-b1c3-4b9c-a0ed-65787501095a"
      },
      "execution_count": null,
      "outputs": [
        {
          "output_type": "stream",
          "name": "stdout",
          "text": [
            "name\n",
            "age\n",
            "salary\n",
            "city\n",
            "{'name': 'Kelly', 'salary': 25}\n"
          ]
        }
      ]
    }
  ]
}