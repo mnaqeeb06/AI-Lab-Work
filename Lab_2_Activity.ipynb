{
  "nbformat": 4,
  "nbformat_minor": 0,
  "metadata": {
    "colab": {
      "provenance": [],
      "collapsed_sections": [],
      "authorship_tag": "ABX9TyMBjVr2gE45V5ukMo/z3Za8",
      "include_colab_link": true
    },
    "kernelspec": {
      "name": "python3",
      "display_name": "Python 3"
    },
    "language_info": {
      "name": "python"
    }
  },
  "cells": [
    {
      "cell_type": "markdown",
      "metadata": {
        "id": "view-in-github",
        "colab_type": "text"
      },
      "source": [
        "<a href=\"https://colab.research.google.com/github/mnaqeeb06/AI-Lab-Work/blob/main/Lab_2_Activity.ipynb\" target=\"_parent\"><img src=\"https://colab.research.google.com/assets/colab-badge.svg\" alt=\"Open In Colab\"/></a>"
      ]
    },
    {
      "cell_type": "markdown",
      "source": [
        "\n",
        "\n",
        "# Lab Activity 18th September\n",
        "# Lab 2\n",
        "\n",
        "> Muhammad Naqeeb\n",
        "\n",
        "> fa20-bcs-012\n",
        "\n",
        "> To: Mr. Qazi Zia"
      ],
      "metadata": {
        "id": "f9OVxsAu6qa-"
      }
    },
    {
      "cell_type": "markdown",
      "source": [
        "### Activity 1\n",
        "> Accept two lists from user and display their join."
      ],
      "metadata": {
        "id": "u6-LRzx96nTc"
      }
    },
    {
      "cell_type": "code",
      "execution_count": null,
      "metadata": {
        "colab": {
          "base_uri": "https://localhost:8080/"
        },
        "id": "wF5_Wncx1f9f",
        "outputId": "f04c7937-5f45-4332-fca3-0b4ca891408a"
      },
      "outputs": [
        {
          "output_type": "stream",
          "name": "stdout",
          "text": [
            "Enter List 1 values\n",
            "1\n",
            "2\n",
            "Enter List 2 values\n",
            "3\n",
            "4\n",
            "Combine List\n",
            "[1, 2, 3, 4]\n"
          ]
        }
      ],
      "source": [
        "list1 = []\n",
        "print('Enter List 1 values')\n",
        "for i in range(2):\n",
        "  value = int(input()) \n",
        "  list1.append(value)\n",
        "\n",
        "list2 = []\n",
        "print('Enter List 2 values')\n",
        "for i in range(2):\n",
        "  value = int(input()) \n",
        "  list2.append(value)\n",
        "\n",
        "print('Combine List')\n",
        "list3 = list1 + list2 \n",
        "print(list3)"
      ]
    },
    {
      "cell_type": "markdown",
      "source": [
        "### Activity 2:\n",
        "> A palindrome is a string which is same read forward or backwards.\n",
        "For example: \"dad\" is the same in forward or reverse direction. Another example is \"aibohphobia\"\n",
        "which literally means, an irritable fear of palindromes.\n",
        "Write a function in python that receives a string and returns True if that string is a palindrome and\n",
        "False otherwise. Remember that difference between upper and lower case characters are ignored\n",
        "during this determination.\n",
        "\n"
      ],
      "metadata": {
        "id": "bKMKMwuK8jrk"
      }
    },
    {
      "cell_type": "code",
      "source": [
        "def checkPalindrome(str):\n",
        "  check = True\n",
        "  print(len(str))\n",
        "  for i in range(0,len(str)):\n",
        "    if(str[i] != str[(len(str)-1-i)]):\n",
        "      check = False\n",
        "      break\n",
        "  \n",
        "  return check\n",
        "\n",
        "\n",
        "result = checkPalindrome('mada')\n",
        "print(result)\n"
      ],
      "metadata": {
        "colab": {
          "base_uri": "https://localhost:8080/"
        },
        "id": "ZtF9zjMI8kUm",
        "outputId": "b72410b2-72ed-4279-a0d0-d63ed273e95b"
      },
      "execution_count": null,
      "outputs": [
        {
          "output_type": "stream",
          "name": "stdout",
          "text": [
            "4\n",
            "False\n"
          ]
        }
      ]
    },
    {
      "cell_type": "markdown",
      "source": [
        "method 2 by reversing string\n",
        "\n",
        "> Note\n",
        "\n",
        "The extended slicing notation string`[start:stop:step]` uses three arguments start, stop, and step to carve out a subsequence. It accesses every step-th element between indices start (included) and stop (excluded). The double colon :: occurs if you drop the stop argument. In this case, Python will use the default value and doesn’t assume an artificial stop."
      ],
      "metadata": {
        "id": "DI1cRKSu_uky"
      }
    },
    {
      "cell_type": "code",
      "source": [
        "def checkPalindrome(str):\n",
        "  temp = str[::-1]\n",
        "  if(temp.capitalize() == str.capitalize()):\n",
        "    return True\n",
        "  else:\n",
        "    return False\n",
        "\n",
        "result = checkPalindrome('madam')\n",
        "print(result)\n"
      ],
      "metadata": {
        "colab": {
          "base_uri": "https://localhost:8080/"
        },
        "id": "HVmssU2Y_ye8",
        "outputId": "452ea60e-51b8-4d6b-cc19-db1e47d5be3f"
      },
      "execution_count": null,
      "outputs": [
        {
          "output_type": "stream",
          "name": "stdout",
          "text": [
            "True\n"
          ]
        }
      ]
    },
    {
      "cell_type": "markdown",
      "source": [
        "### Activity 3:\n",
        "Imagine two matrices given in the form of 2D lists as under; \n",
        "\n",
        "a = [[1, 0, 0], [0, 1, 0], [0, 0, 1] ]\n",
        "\n",
        "b = [[1, 2, 3], [4, 5, 6], [7, 8, 9] ]\n",
        "\n",
        "Write a python code that finds another matrix/2D list that is a product of and b, i.e., C=a*b"
      ],
      "metadata": {
        "id": "rAh4s36QDuTL"
      }
    },
    {
      "cell_type": "code",
      "source": [
        "a = [[1, 0, 0], [0, 1, 0], [0, 0, 1]] \n",
        "b = [[1, 2, 3], [4, 5, 6], [7, 8, 9]]\n",
        "c = []\n",
        "\n",
        "for row in range(0,3):\n",
        "  c.append([])\n",
        "  for col in range(0,3):\n",
        "    c[row].append(0)\n",
        "    for i in range(3):\n",
        "      c[row][col] = a[row][col]*b[row][col]\n",
        "\n",
        "print(c)"
      ],
      "metadata": {
        "colab": {
          "base_uri": "https://localhost:8080/"
        },
        "id": "kFz8qKfyDzC7",
        "outputId": "131b17c3-5bcd-4d5e-c571-973954e7b129"
      },
      "execution_count": null,
      "outputs": [
        {
          "output_type": "stream",
          "name": "stdout",
          "text": [
            "[[1, 0, 0], [0, 5, 0], [0, 0, 9]]\n"
          ]
        }
      ]
    },
    {
      "cell_type": "markdown",
      "source": [
        "### Activity 4:\n",
        "A closed polygon with N sides can be represented as a list of tuples of N connected coordinates, i.e.,\n",
        "[ (x1,y1), (x2,y2), (x3,y3), . . . , (xN,yN) ]. A sample polygon with 6 sides (N=6) is shown below.\n"
      ],
      "metadata": {
        "id": "RLlOyctaQqsH"
      }
    },
    {
      "cell_type": "code",
      "source": [
        "def perimeter (listing):\n",
        "  leng=len(listing)\n",
        "  perimeter=0; \n",
        "  for i in range(0, leng-1): \n",
        "     dist = (((listing[i][0]-listing[i+1] [0]) **2)+ ((listing[i][1]-listing[i+1][1]) **2))*+0.5 \n",
        "   \n",
        "     perimeter = perimeter + dist \n",
        "  perimeter = perimeter + (((listing[0][0] -listing[leng-1] [0]) **2)+((listing[0][1]-listing[leng-1][1]) **2)) **0.5 \n",
        "\n",
        "\n",
        "  return perimeter\n",
        "\n",
        "L = [(1,3), (2,7), (3,9), (-1,8)] \n",
        "print (perimeter (L))"
      ],
      "metadata": {
        "id": "SqbLDLDaQzsc",
        "colab": {
          "base_uri": "https://localhost:8080/"
        },
        "outputId": "80d2938f-bc8e-4a97-e27d-76feaeff5f93"
      },
      "execution_count": null,
      "outputs": [
        {
          "output_type": "stream",
          "name": "stdout",
          "text": [
            "24.885164807134505\n"
          ]
        }
      ]
    },
    {
      "cell_type": "markdown",
      "source": [
        "### Activity 5:\n",
        "> Imagine two sets A and B containing numbers. Without using built-in set functionalities, write your \n",
        "own function that receives two such sets and returns another set C which is a symmetric difference \n",
        "of the two input sets. (A symmetric difference between A and B will return a set C which contains \n",
        "only those items that appear in one of A or B. Any items that appear in both sets are not included in \n",
        "C). Now compare the output of your function with the following built-in functions/operators.\n",
        "\n",
        "> ✓ A.symmetric_difference(B)\n",
        "\n",
        "> ✓ B.symmetric_difference(A)\n",
        "\n",
        "> ✓ A ^ B\n",
        "\n",
        "> ✓ B ^ A"
      ],
      "metadata": {
        "id": "X39BKkSXz8H9"
      }
    },
    {
      "cell_type": "code",
      "source": [
        "def symmDiff(a,b):\n",
        "  c = set()\n",
        "  for i in a:\n",
        "    if i not in b:\n",
        "      c.add(i)\n",
        "\n",
        "  for i in b:\n",
        "    if i not in a:\n",
        "      c.add(i)\n",
        "  return c\n",
        "\n",
        "s1 = {1,2,3}\n",
        "s2 = {3,5,6}\n",
        "print(symmDiff(s1,s2))\n"
      ],
      "metadata": {
        "id": "gLWeFvVP0BG0",
        "colab": {
          "base_uri": "https://localhost:8080/"
        },
        "outputId": "349603cd-f206-4158-f069-e8c349d6d11c"
      },
      "execution_count": null,
      "outputs": [
        {
          "output_type": "stream",
          "name": "stdout",
          "text": [
            "{1, 2, 5, 6}\n"
          ]
        }
      ]
    },
    {
      "cell_type": "markdown",
      "source": [
        "### Activity 6:\n",
        "> Create a Python program that contains a dictionary of names and phone numbers. Use a tuple of \n",
        "separate first and last name values for the key field. Initialize the dictionary with at least three \n",
        "names and numbers. Ask the user to search for a phone number by entering a first and last name. \n",
        "Display the matching number if found, or a message if not found."
      ],
      "metadata": {
        "id": "5zQkM9Y9PkTU"
      }
    },
    {
      "cell_type": "code",
      "source": [
        "sample = {('Haris', 'Shah'):'03118655412', ('Aqaib','Ali'):'03107895412'}\n",
        "\n",
        "firstName = input('enter first name')\n",
        "lastName = input('enter last name')\n",
        "\n",
        "searchTuple = (firstName, lastName)\n",
        "if searchTuple in sample:\n",
        "  print(sample[searchTuple])\n",
        "else:\n",
        "  print('Not Found')"
      ],
      "metadata": {
        "id": "vsLoMA-oPnRE",
        "colab": {
          "base_uri": "https://localhost:8080/"
        },
        "outputId": "182e75d2-6667-49f9-8501-011a5a0a16bc"
      },
      "execution_count": null,
      "outputs": [
        {
          "output_type": "stream",
          "name": "stdout",
          "text": [
            "enter first nameHaris\n",
            "enter last nameShah\n",
            "03118655412\n"
          ]
        }
      ]
    }
  ]
}